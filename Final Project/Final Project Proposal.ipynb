{
 "cells": [
  {
   "cell_type": "markdown",
   "metadata": {},
   "source": [
    "## Data 608 Project Proposal\n",
    "\n",
    "For my final data visualization project, I want to look at historical energy consumption data to identify changes and trends in energy usage over time, by sector.\n",
    "\n",
    "### Importance\n",
    "\n",
    "In my previous job position, I was an analyst at Con Edison's energy efficiency department. There was a lot of focus on promoting energy efficient technology across various sectors, particularly the commercial and residential spaces. Most of these efforts are relatively recent and focus on reducing consumption in New York only. \n",
    "\n",
    "I am interested in learning more about energy consumption changes at a larger scale (global, more sectors, and more energy types). With global warming already causing severe consequences, it is important to encourage any improvements in energy sustainability. \n",
    "\n",
    "### Data Sources\n",
    "\n",
    "**[Energy Consumption Statistics by State, Energy Source, and Sector (1960 - 2009) from the U.S. Department of Energy](https://openei.org/datasets/dataset/state-energy-data-system-seds-complete-dataset-through-2009)**\n",
    "\n",
    "* Identify trends in energy type usage for each segment\n",
    "* Visualize change over time\n",
    "\n",
    "**[Annual Renewable Electricity Consumption by Country (2005 - 2009)](https://openei.org/datasets/dataset/annual-renewable-electricity-consumption-by-country-2005-2009)**\n",
    "\n",
    "* Which countries are most sustainable (normalize by population)?\n",
    "\n",
    "**[Residential Energy Consumption 2015](https://www.eia.gov/consumption/residential/data/2015/index.php?view=consumption)**\n",
    "\n",
    "* Which end uses consume the most energy in residential spaces?\n",
    "* How does energy use and source compare across the country?\n",
    "\n",
    "\n",
    "### Parameters\n",
    "\n",
    "#### Geography\n",
    "* State\n",
    "* Country\n",
    "\n",
    "#### Timeframe\n",
    "* Annual Historical Data (Pre-2009)\n",
    "* Current Residential Data (2015)\n",
    "\n",
    "#### Data Points\n",
    "* Energy Source \n",
    "* Sector\n",
    "* Consumption (in BTU / kWh / kW / etc)\n",
    "\n",
    "### Visualization\n",
    "\n",
    "To visualize this information, I want to create a scroll-based visualization that will help tell a story of energy consumption changes for all these various parameters. \n",
    "\n",
    "Scroll Magic: [http://scrollmagic.io/](http://scrollmagic.io/)\n",
    "\n",
    "Example: [http://atintell.com/](http://atintell.com/)\n",
    "\n",
    "Alternative: Tableau Stories"
   ]
  }
 ],
 "metadata": {
  "kernelspec": {
   "display_name": "Python 3",
   "language": "python",
   "name": "python3"
  },
  "language_info": {
   "codemirror_mode": {
    "name": "ipython",
    "version": 3
   },
   "file_extension": ".py",
   "mimetype": "text/x-python",
   "name": "python",
   "nbconvert_exporter": "python",
   "pygments_lexer": "ipython3",
   "version": "3.7.3"
  }
 },
 "nbformat": 4,
 "nbformat_minor": 2
}
